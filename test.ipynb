{
 "cells": [
  {
   "cell_type": "code",
   "execution_count": 20,
   "metadata": {},
   "outputs": [],
   "source": [
    "import torch\n",
    "import torch.nn as nn\n",
    "from torch.nn import functional as F\n",
    "from typing import List\n",
    "from torch.utils.data import Dataset, DataLoader"
   ]
  },
  {
   "cell_type": "code",
   "execution_count": 21,
   "metadata": {},
   "outputs": [],
   "source": [
    "# hyperparameters\n",
    "batch_size = 16 # how many independent sequences will we process in parallel?\n",
    "block_size = 32 # what is the maximum context length for predictions?\n",
    "max_iters = 1000\n",
    "eval_interval = 100\n",
    "learning_rate = 1e-3\n",
    "device = 'cuda' if torch.cuda.is_available() else 'cpu'\n",
    "eval_iters = 200\n",
    "n_embd = 64\n",
    "n_head = 4\n",
    "n_layer = 4\n",
    "dropout = 0.0"
   ]
  },
  {
   "cell_type": "code",
   "execution_count": 59,
   "metadata": {},
   "outputs": [],
   "source": [
    "import tiktoken\n",
    "\n",
    "class Tokenizer:\n",
    "    def __init__(self, chars, vocab_size) -> None:\n",
    "        self.chars = chars\n",
    "        self.vocab_size = vocab_size\n",
    "\n",
    "    def encode(self, text: str) -> List[int]:\n",
    "        stoi = { ch:i for i,ch in enumerate(self.chars) }\n",
    "        return [stoi[c] for c in text] \n",
    "\n",
    "    def decode(self, integers: List[int]) -> str: \n",
    "        itos = { i:ch for i,ch in enumerate(self.chars) }\n",
    "        return ''.join([itos[i] for i in integers]) \n",
    "\n",
    "class OpenAITokenizer:\n",
    "    def __init__(self) -> None:\n",
    "        self.enc = tiktoken.get_encoding(\"gpt2\")\n",
    "        self.vocab_size = self.enc.n_vocab\n",
    "\n",
    "    def encode(self, text: str) -> List[int]:\n",
    "        return self.enc.encode(text)\n",
    "\n",
    "    def decode(self, lst: List[int]) -> str: \n",
    "        return ''.join([self.enc.decode(el) for el in lst])  \n",
    "    \n",
    "class ShakespareDataset(Dataset):\n",
    "    def __init__(self, text, tokenizer, block_size):\n",
    "        self.data = torch.tensor(tokenizer.encode(text), dtype=torch.long)\n",
    "        self.block_size = block_size\n",
    "\n",
    "    def __len__(self):\n",
    "        return len(self.data) - self.block_size\n",
    "\n",
    "    def __getitem__(self, idx):\n",
    "        x = self.data[idx:idx+self.block_size]\n",
    "        y = self.data[idx+1:idx+self.block_size+1]\n",
    "        x, y = x.to(device), y.to(device)\n",
    "        return x, y"
   ]
  },
  {
   "cell_type": "code",
   "execution_count": 23,
   "metadata": {},
   "outputs": [],
   "source": [
    "class Head(nn.Module):\n",
    "    \"\"\" one head of self-attention \"\"\"\n",
    "\n",
    "    def __init__(self, head_size):\n",
    "        super().__init__()\n",
    "        self.key = nn.Linear(n_embd, head_size, bias=False)\n",
    "        self.query = nn.Linear(n_embd, head_size, bias=False)\n",
    "        self.value = nn.Linear(n_embd, head_size, bias=False)\n",
    "        self.register_buffer('tril', torch.tril(torch.ones(block_size, block_size)))\n",
    "\n",
    "        self.dropout = nn.Dropout(dropout)\n",
    "\n",
    "    def forward(self, x):\n",
    "        B,T,C = x.shape\n",
    "        k = self.key(x)   # (B,T,C)\n",
    "        q = self.query(x) # (B,T,C)\n",
    "        # compute attention scores (\"affinities\")\n",
    "        wei = q @ k.transpose(-2,-1) * C**-0.5 # (B, T, C) @ (B, C, T) -> (B, T, T)\n",
    "        wei = wei.masked_fill(self.tril[:T, :T] == 0, float('-inf')) # (B, T, T)\n",
    "        wei = F.softmax(wei, dim=-1) # (B, T, T)\n",
    "        wei = self.dropout(wei)\n",
    "        # perform the weighted aggregation of the values\n",
    "        v = self.value(x) # (B,T,C)\n",
    "        out = wei @ v # (B, T, T) @ (B, T, C) -> (B, T, C)\n",
    "        return out\n",
    "\n",
    "class MultiHeadAttention(nn.Module):\n",
    "    \"\"\" multiple heads of self-attention in parallel \"\"\"\n",
    "\n",
    "    def __init__(self, num_heads, head_size):\n",
    "        super().__init__()\n",
    "        self.heads = nn.ModuleList([Head(head_size) for _ in range(num_heads)])\n",
    "        self.proj = nn.Linear(n_embd, n_embd)\n",
    "        self.dropout = nn.Dropout(dropout)\n",
    "\n",
    "    def forward(self, x):\n",
    "        out = torch.cat([h(x) for h in self.heads], dim=-1)\n",
    "        out = self.dropout(self.proj(out))\n",
    "        return out\n",
    "\n",
    "class FeedFoward(nn.Module):\n",
    "    \"\"\" a simple linear layer followed by a non-linearity \"\"\"\n",
    "\n",
    "    def __init__(self, n_embd):\n",
    "        super().__init__()\n",
    "        self.net = nn.Sequential(\n",
    "            nn.Linear(n_embd, 4 * n_embd),\n",
    "            nn.ReLU(),\n",
    "            nn.Linear(4 * n_embd, n_embd),\n",
    "            nn.Dropout(dropout),\n",
    "        )\n",
    "\n",
    "    def forward(self, x):\n",
    "        return self.net(x)\n",
    "\n",
    "class Block(nn.Module):\n",
    "    \"\"\" Transformer block: communication followed by computation \"\"\"\n",
    "\n",
    "    def __init__(self, n_embd, n_head):\n",
    "        # n_embd: embedding dimension, n_head: the number of heads we'd like\n",
    "        super().__init__()\n",
    "        head_size = n_embd // n_head\n",
    "        self.sa = MultiHeadAttention(n_head, head_size)\n",
    "        self.ffwd = FeedFoward(n_embd)\n",
    "        self.ln1 = nn.LayerNorm(n_embd)\n",
    "        self.ln2 = nn.LayerNorm(n_embd)\n",
    "\n",
    "    def forward(self, x):\n",
    "        x = x + self.sa(self.ln1(x))\n",
    "        x = x + self.ffwd(self.ln2(x))\n",
    "        return x\n",
    "\n",
    "# super simple bigram model\n",
    "class BigramLanguageModel(nn.Module):\n",
    "\n",
    "    def __init__(self, vocab_size):\n",
    "        super().__init__()\n",
    "        # each token directly reads off the logits for the next token from a lookup table\n",
    "        self.token_embedding_table = nn.Embedding(vocab_size, n_embd)\n",
    "        self.position_embedding_table = nn.Embedding(block_size, n_embd)\n",
    "        self.blocks = nn.Sequential(*[Block(n_embd, n_head=n_head) for _ in range(n_layer)])\n",
    "        self.ln_f = nn.LayerNorm(n_embd) # final layer norm\n",
    "        self.lm_head = nn.Linear(n_embd, vocab_size)\n",
    "\n",
    "    def forward(self, idx, targets=None):\n",
    "        B, T = idx.shape\n",
    "\n",
    "        # idx and targets are both (B,T) tensor of integers\n",
    "        tok_emb = self.token_embedding_table(idx) # (B,T,C)\n",
    "        pos_emb = self.position_embedding_table(torch.arange(T, device=device)) # (T,C)\n",
    "        x = tok_emb + pos_emb # (B,T,C)\n",
    "        x = self.blocks(x) # (B,T,C)\n",
    "        x = self.ln_f(x) # (B,T,C)\n",
    "        logits = self.lm_head(x) # (B,T,vocab_size)\n",
    "\n",
    "        if targets is None:\n",
    "            loss = None\n",
    "        else:\n",
    "            B, T, C = logits.shape\n",
    "            logits = logits.view(B*T, C)\n",
    "            targets = targets.view(B*T)\n",
    "            loss = F.cross_entropy(logits, targets)\n",
    "\n",
    "        return logits, loss\n",
    "\n",
    "    def generate(self, idx, max_new_tokens):\n",
    "        # idx is (B, T) array of indices in the current context\n",
    "        for _ in range(max_new_tokens):\n",
    "            # crop idx to the last block_size tokens\n",
    "            idx_cond = idx[:, -block_size:]\n",
    "            # get the predictions\n",
    "            logits, loss = self(idx_cond)\n",
    "            # focus only on the last time step\n",
    "            logits = logits[:, -1, :] # becomes (B, C)\n",
    "            # apply softmax to get probabilities\n",
    "            probs = F.softmax(logits, dim=-1) # (B, C)\n",
    "            # sample from the distribution\n",
    "            idx_next = torch.multinomial(probs, num_samples=1) # (B, 1)\n",
    "            # append sampled index to the running sequence\n",
    "            idx = torch.cat((idx, idx_next), dim=1) # (B, T+1)\n",
    "        return idx"
   ]
  },
  {
   "cell_type": "code",
   "execution_count": 64,
   "metadata": {},
   "outputs": [
    {
     "name": "stderr",
     "output_type": "stream",
     "text": [
      "Failed to detect the name of this notebook, you can set it manually with the WANDB_NOTEBOOK_NAME environment variable to enable code saving.\n",
      "\u001b[34m\u001b[1mwandb\u001b[0m: Currently logged in as: \u001b[33mr-alvarezlucendo16\u001b[0m (\u001b[33mneural-object-tracking\u001b[0m). Use \u001b[1m`wandb login --relogin`\u001b[0m to force relogin\n"
     ]
    },
    {
     "data": {
      "text/html": [
       "Tracking run with wandb version 0.16.4"
      ],
      "text/plain": [
       "<IPython.core.display.HTML object>"
      ]
     },
     "metadata": {},
     "output_type": "display_data"
    },
    {
     "data": {
      "text/html": [
       "Run data is saved locally in <code>/Users/rodrigoalvarezlucendo/Desktop/mini-GPT/wandb/run-20240308_094231-7efikzlx</code>"
      ],
      "text/plain": [
       "<IPython.core.display.HTML object>"
      ]
     },
     "metadata": {},
     "output_type": "display_data"
    },
    {
     "data": {
      "text/html": [
       "Syncing run <strong><a href='https://wandb.ai/neural-object-tracking/mini-GPT/runs/7efikzlx' target=\"_blank\">polar-frog-1</a></strong> to <a href='https://wandb.ai/neural-object-tracking/mini-GPT' target=\"_blank\">Weights & Biases</a> (<a href='https://wandb.me/run' target=\"_blank\">docs</a>)<br/>"
      ],
      "text/plain": [
       "<IPython.core.display.HTML object>"
      ]
     },
     "metadata": {},
     "output_type": "display_data"
    },
    {
     "data": {
      "text/html": [
       " View project at <a href='https://wandb.ai/neural-object-tracking/mini-GPT' target=\"_blank\">https://wandb.ai/neural-object-tracking/mini-GPT</a>"
      ],
      "text/plain": [
       "<IPython.core.display.HTML object>"
      ]
     },
     "metadata": {},
     "output_type": "display_data"
    },
    {
     "data": {
      "text/html": [
       " View run at <a href='https://wandb.ai/neural-object-tracking/mini-GPT/runs/7efikzlx' target=\"_blank\">https://wandb.ai/neural-object-tracking/mini-GPT/runs/7efikzlx</a>"
      ],
      "text/plain": [
       "<IPython.core.display.HTML object>"
      ]
     },
     "metadata": {},
     "output_type": "display_data"
    },
    {
     "data": {
      "text/html": [
       "<button onClick=\"this.nextSibling.style.display='block';this.style.display='none';\">Display W&B run</button><iframe src='https://wandb.ai/neural-object-tracking/mini-GPT/runs/7efikzlx?jupyter=true' style='border:none;width:100%;height:420px;display:none;'></iframe>"
      ],
      "text/plain": [
       "<wandb.sdk.wandb_run.Run at 0x151330970>"
      ]
     },
     "execution_count": 64,
     "metadata": {},
     "output_type": "execute_result"
    }
   ],
   "source": [
    "import wandb\n",
    "\n",
    "# start a new wandb run to track this script\n",
    "wandb.init(\n",
    "    project=\"mini-GPT\",\n",
    "    \n",
    "    # track hyperparameters and run metadata\n",
    "    config={\n",
    "        \"learning_rate\": learning_rate\n",
    "    }\n",
    ")"
   ]
  },
  {
   "cell_type": "code",
   "execution_count": 26,
   "metadata": {},
   "outputs": [],
   "source": [
    "import numpy as np\n",
    "\n",
    "@torch.no_grad()\n",
    "def estimate_loss(model, dataloader, eval_iters):\n",
    "    losses = []\n",
    "    model.eval()\n",
    "    for k in range(eval_iters):\n",
    "        X, Y = next(iter(dataloader))\n",
    "        # compute loss\n",
    "        logits, loss = model(X, Y)\n",
    "        losses.append(loss.item())\n",
    "    model.train()\n",
    "    return np.mean(losses)\n",
    "\n",
    "def train(train_loader, test_loader, model, optimizer, max_iters, eval_interval, eval_iters):\n",
    "    for i in range(max_iters):\n",
    "        if i % eval_interval == 0 or i == max_iters - 1:\n",
    "            train_loss = estimate_loss(model, train_loader, eval_iters)\n",
    "            val_loss = estimate_loss(model, test_loader, eval_iters)\n",
    "            wandb.log({\"train_loss\": train_loss, \"val_loss\": val_loss})\n",
    "            # print(f\"step {i}: train loss {train_loss:.4f}, val loss {val_loss:.4f}\")\n",
    "    \n",
    "        batch = next(iter(train_loader))\n",
    "        x, y = batch\n",
    "        logits, loss = model(x, y)\n",
    "        optimizer.zero_grad(set_to_none=True)\n",
    "        loss.backward()\n",
    "        optimizer.step()"
   ]
  },
  {
   "cell_type": "code",
   "execution_count": 61,
   "metadata": {},
   "outputs": [
    {
     "name": "stdout",
     "output_type": "stream",
     "text": [
      "0.209729 M parameters\n",
      "step 0: train loss 4.3972, val loss 4.3954\n",
      "step 100: train loss 2.6554, val loss 2.6292\n",
      "step 200: train loss 2.5091, val loss 2.5210\n",
      "step 300: train loss 2.4274, val loss 2.4533\n",
      "step 400: train loss 2.3579, val loss 2.4052\n",
      "step 500: train loss 2.3136, val loss 2.3506\n",
      "step 600: train loss 2.2566, val loss 2.3178\n",
      "step 700: train loss 2.2175, val loss 2.2510\n",
      "step 800: train loss 2.1842, val loss 2.2112\n",
      "step 900: train loss 2.1547, val loss 2.2061\n",
      "step 999: train loss 2.1003, val loss 2.1657\n"
     ]
    }
   ],
   "source": [
    "torch.manual_seed(1337)\n",
    " \n",
    "# read file.\n",
    "with open('input.txt', 'r', encoding='utf-8') as f:\n",
    "    text = f.read()\n",
    "\n",
    "# create tokenizer.\n",
    "chars = sorted(list(set(text))) \n",
    "vocab_size = len(chars)\n",
    "\n",
    "tokenizer = Tokenizer(chars, vocab_size)\n",
    "# tokenizer = OpenAITokenizer()\n",
    "\n",
    "# train and test splits\n",
    "dataset = ShakespareDataset(text, tokenizer, block_size)\n",
    "n = int(0.9*len(dataset)) # first 90% will be train, rest val\n",
    "train_dataset, test_dataset = torch.utils.data.dataset.random_split(dataset, [n, len(dataset) - n])\n",
    "train_loader = DataLoader(train_dataset, batch_size=batch_size, shuffle=True)\n",
    "test_loader = DataLoader(test_dataset, batch_size=batch_size, shuffle=False)\n",
    "\n",
    "# create model.\n",
    "model = BigramLanguageModel(vocab_size=tokenizer.vocab_size)\n",
    "m = model.to(device)\n",
    "# print the number of parameters in the model\n",
    "print(sum(p.numel() for p in m.parameters())/1e6, 'M parameters')\n",
    "\n",
    "# create a PyTorch optimizer\n",
    "optimizer = torch.optim.AdamW(model.parameters(), lr=learning_rate)\n",
    "\n",
    "train(train_loader, test_loader, model, optimizer, max_iters, eval_interval, eval_iters)\n",
    "\n"
   ]
  },
  {
   "cell_type": "code",
   "execution_count": 28,
   "metadata": {},
   "outputs": [
    {
     "name": "stdout",
     "output_type": "stream",
     "text": [
      "\n",
      "\n",
      "PETNO:\n",
      "Iull to eve vides teern end, chiss flare you of theave?\n",
      "\n",
      "\n",
      "SUCUNTUK:\n",
      "A, shal irn st, hen lordeng for hondeed,\n",
      "Thou thun son will foom, govy that trootcioug Eurd, ast depesk.\n",
      "\n",
      "OLI:Cer'sp ap. I I ssufflores whoused for be hich; my sut leank?\n",
      "\n",
      "INIO:\n",
      "Shay:\n",
      "Makht fat you?\n",
      "\n",
      "\n",
      "NUNG IO:\n",
      "Co dhe enop arsit's wice of know,\n",
      "Tre thirthe his tnobe hou that sirest dod reare, asd chell youk.\n",
      "\n",
      "LOUBEERDNE:\n",
      "Whils Ry of for le.\n",
      "\n",
      "\n",
      "Thorse here's whage tho is doug Qpe hereve tasis to ou dry our,\n",
      "cwheraurt ill: noto hat the to beek bro,\n",
      "For not pagse know sto the do his-m aess bad,\n",
      "And you known qut nentr'd dithteang and yin ou that hoongerse; then Ho he you:\n",
      "Whe wintnn the oug a tour uspof dive.\n",
      "\n",
      "KIINO:\n",
      "Soldl. Thit 'tome?\n",
      "\n",
      "ZUSNIUK:\n",
      "Rorstithfirs in wement, llay lop.\n",
      "\n",
      "PORUCHALWO:\n",
      "Fay frestirses bok errses to begiard\n",
      "And to pe hason with shou mave if I avards\n",
      "not aur inte on the me sand-des a sueipe.\n",
      "\n",
      "YLUL$IETR:\n",
      "I the co' sme woth yee thath couses\n",
      "Aht greand, hars tute, hou swath shere.\n",
      "\n",
      "AUCUCIVHARY med legown I tho for sirst tile to ceuran, dise a of in Hem hertine die\n",
      "Loulind our mare be hild,\n",
      "Yatye benrufor annd thare deve to a vere ham\n",
      "Whis thange most ase the fing befof.\n",
      "\n",
      "BVUPPTAROP:\n",
      "With and tave shaWas, Rovou card.\n",
      "\n",
      "LONIShat me Rirsitir ou dimss furon anif deiran.\n",
      "\n",
      "Thath for ronk honk'd inot ou swerdn,\n",
      "Bunt kfolt ute than yee itr tho sur dake noty?\n",
      "\n",
      "KOCARYTRV:\n",
      "No groonn beat ou ho ach notht suran\n",
      "The tooou Iat thou biight nur, murtent dup int ne his weeduld,\n",
      "What o minn,\n",
      "And its on as de, tho lose detir's my ple wist o this!\n",
      "Thy Higatid wouchou nad thofo u, knd-t,\n",
      "Me gotset ath dewe.\n",
      "\n",
      "\n",
      "BRUSINGLHA:\n",
      "Will Py, my thoou wor he:\n",
      "Adnde know hop lobset beeriourswerarew,\n",
      "We feedir un stou eer mestureky thive sharke day a ne;\n",
      "For 'too furnte poan in hath spland in cyicth way.\n",
      "\n",
      "MINICE ILA:\n",
      "Gowin move Role, your 'll him far kir that thed to a e Idearsence:\n",
      "Ent sursathe ist of be hoffor of that the meese of thir te therus aidr's, wend to Bay arend wile\n",
      "Shau brud ploong that sof andil the een\n"
     ]
    }
   ],
   "source": [
    "context = torch.zeros((1, 1), dtype=torch.long, device=device)\n",
    "generated = m.generate(context, max_new_tokens=2000)[0].tolist()\n",
    "print(tokenizer.decode(generated))"
   ]
  },
  {
   "cell_type": "code",
   "execution_count": 55,
   "metadata": {},
   "outputs": [
    {
     "name": "stdout",
     "output_type": "stream",
     "text": [
      "[15339, 1268, 527, 499]\n"
     ]
    }
   ],
   "source": [
    "enc = tiktoken.get_encoding(\"cl100k_base\")\n",
    "tokenizer = Tokenizer(chars, vocab_size)\n",
    "word = 'hello how are you'\n",
    "res = [s for s in word]\n",
    "# print(len(tokenizer.encode(res)))\n",
    "print(enc.encode(word))"
   ]
  }
 ],
 "metadata": {
  "kernelspec": {
   "display_name": "base",
   "language": "python",
   "name": "python3"
  },
  "language_info": {
   "codemirror_mode": {
    "name": "ipython",
    "version": 3
   },
   "file_extension": ".py",
   "mimetype": "text/x-python",
   "name": "python",
   "nbconvert_exporter": "python",
   "pygments_lexer": "ipython3",
   "version": "3.9.13"
  }
 },
 "nbformat": 4,
 "nbformat_minor": 2
}
